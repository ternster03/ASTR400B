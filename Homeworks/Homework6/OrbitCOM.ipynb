{
 "cells": [
  {
   "cell_type": "code",
   "execution_count": null,
   "metadata": {},
   "outputs": [],
   "source": [
    "# Homework 6 Template\n",
    "# G. Besla & R. Li"
   ]
  },
  {
   "cell_type": "code",
   "execution_count": null,
   "metadata": {},
   "outputs": [],
   "source": [
    "# import modules\n",
    "import numpy as np\n",
    "import astropy.units as u\n",
    "from astropy.constants import G\n",
    "\n",
    "# import plotting modules\n",
    "import matplotlib.pyplot as plt\n",
    "import matplotlib\n",
    "%matplotlib inline\n",
    "\n",
    "# my modules\n",
    "from ReadFile import Read\n",
    "# Step 1: modify CenterOfMass so that COM_P now takes a parameter specifying \n",
    "# by how much to decrease RMAX instead of a factor of 2\n",
    "from CenterOfMass2 import CenterOfMass\n",
    "\n"
   ]
  },
  {
   "cell_type": "code",
   "execution_count": null,
   "metadata": {},
   "outputs": [],
   "source": [
    "def \n",
    "    \"\"\"function that loops over all the desired snapshots to compute the COM pos and vel as a function of time.\n",
    "    inputs:\n",
    "          \n",
    "    outputs: \n",
    "    \"\"\"\n",
    "    \n",
    "    # compose the filename for output\n",
    "    \n",
    "    #  set tolerance and VolDec for calculating COM_P in CenterOfMass\n",
    "    # for M33 that is stripped more, use different values for VolDec\n",
    "\n",
    "    \n",
    "    # generate the snapshot id sequence \n",
    "    # it is always a good idea to also check if the input is eligible (not required)\n",
    "    \n",
    "    \n",
    "    # initialize the array for orbital info: t, x, y, z, vx, vy, vz of COM\n",
    "    \n",
    "    \n",
    "    # a for loop \n",
    "    for  # loop over files\n",
    "        \n",
    "        # compose the data filename (be careful about the folder)\n",
    "        \n",
    "        # Initialize an instance of CenterOfMass class, using disk particles\n",
    "\n",
    "        # Store the COM pos and vel. Remember that now COM_P required VolDec\n",
    "       \n",
    "    \n",
    "        # store the time, pos, vel in ith element of the orbit array,  without units (.value) \n",
    "        # note that you can store \n",
    "        # a[i] = var1, *tuple(array1)\n",
    "\n",
    "        \n",
    "        # print snap_id to see the progress\n",
    "        print(snap_id)\n",
    "        \n",
    "    # write the data to a file\n",
    "    # we do this because we don't want to have to repeat this process \n",
    "    # this code should only have to be called once per galaxy.\n",
    "    np.savetxt(fileout, orbit, fmt = \"%11.3f\"*7, comments='#',\n",
    "               header=\"{:>10s}{:>11s}{:>11s}{:>11s}{:>11s}{:>11s}{:>11s}\"\\\n",
    "                      .format('t', 'x', 'y', 'z', 'vx', 'vy', 'vz'))"
   ]
  },
  {
   "cell_type": "code",
   "execution_count": null,
   "metadata": {},
   "outputs": [],
   "source": [
    "# Recover the orbits and generate the COM files for each galaxy\n",
    "# read in 800 snapshots in intervals of n=5\n",
    "# Note: This might take a little while - test your code with a smaller number of snapshots first! \n"
   ]
  },
  {
   "cell_type": "code",
   "execution_count": null,
   "metadata": {},
   "outputs": [],
   "source": [
    "# Read in the data files for the orbits of each galaxy that you just created\n",
    "# headers:  t, x, y, z, vx, vy, vz\n",
    "# using np.genfromtxt\n",
    "\n"
   ]
  },
  {
   "cell_type": "code",
   "execution_count": null,
   "metadata": {},
   "outputs": [],
   "source": [
    "# function to compute the magnitude of the difference between two vectors \n",
    "# You can use this function to return both the relative position and relative velocity for two \n",
    "# galaxies over the entire orbit  \n"
   ]
  },
  {
   "cell_type": "code",
   "execution_count": null,
   "metadata": {},
   "outputs": [],
   "source": [
    "# Determine the magnitude of the relative position and velocities \n",
    "\n",
    "# of MW and M31\n",
    "\n",
    "# of M33 and M31\n"
   ]
  },
  {
   "cell_type": "code",
   "execution_count": null,
   "metadata": {},
   "outputs": [],
   "source": [
    "# Plot the Orbit of the galaxies \n",
    "#################################\n",
    "\n"
   ]
  },
  {
   "cell_type": "code",
   "execution_count": null,
   "metadata": {},
   "outputs": [],
   "source": [
    "# Plot the orbital velocities of the galaxies \n",
    "#################################\n"
   ]
  },
  {
   "cell_type": "code",
   "execution_count": null,
   "metadata": {},
   "outputs": [],
   "source": []
  }
 ],
 "metadata": {
  "kernelspec": {
   "display_name": "Python 3 (ipykernel)",
   "language": "python",
   "name": "python3"
  },
  "language_info": {
   "codemirror_mode": {
    "name": "ipython",
    "version": 3
   },
   "file_extension": ".py",
   "mimetype": "text/x-python",
   "name": "python",
   "nbconvert_exporter": "python",
   "pygments_lexer": "ipython3",
   "version": "3.10.9"
  }
 },
 "nbformat": 4,
 "nbformat_minor": 2
}
