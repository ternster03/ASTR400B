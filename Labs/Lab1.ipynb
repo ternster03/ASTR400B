{
 "cells": [
  {
   "cell_type": "markdown",
   "metadata": {},
   "source": [
    "# In Class Lab 1\n",
    "\n",
    "### Due by midnight, thursday in your github repository 'Labs/Lab1' folder\n"
   ]
  },
  {
   "cell_type": "code",
   "execution_count": 1,
   "metadata": {},
   "outputs": [],
   "source": [
    "# Import Modules \n",
    "import numpy as np # import numpy\n",
    "import astropy.units as u # import astropy units\n",
    "from astropy import constants as const # import astropy constants"
   ]
  },
  {
   "cell_type": "markdown",
   "metadata": {},
   "source": [
    "### Astropy Units:  https://docs.astropy.org/en/stable/units/index.html"
   ]
  },
  {
   "cell_type": "markdown",
   "metadata": {},
   "source": [
    "\n",
    "## Part A:  The Local Standard of Rest\n",
    "Proper motion of Sgr A* from Reid & Brunthaler 2004\n",
    "$\\mu = 6.379$ mas/yr \n",
    "\n",
    "Peculiar motion of the sun, $v_\\odot$ = 12.24 km/s  (Schonrich 2010)\n",
    "\n",
    "\n",
    "$v_{tan} = 4.74 \\frac{\\mu}{\\rm mas/yr} \\frac{R_o}{\\rm kpc} = V_{LSR} + v_\\odot$\n",
    "\n",
    "\n",
    "### a)\n",
    "\n",
    "Create a function called VLSR to compute the local standard of res (V$_{LSR}$).\n",
    "\n",
    "The function should take as input: the solar radius (R$_o$), the proper motion (mu)\n",
    "and the peculiar motion of the sun in the $v_\\odot$ direction.\n",
    "\n",
    "Compute V$_{LSR}$ using three different values R$_o$: \n",
    "1. Water Maser Distance for the Sun :  R$_o$ = 8.34 kpc   (Reid 2014 ApJ 783) \n",
    "2. GRAVITY Collaboration Distance for the Sun:  R$_o$ = 8.178 kpc   (Abuter+2019 A&A 625)\n",
    "3. Value for Distance to Sun listed in Sparke & Gallagher : R$_o$ = 7.9 kpc \n"
   ]
  },
  {
   "cell_type": "code",
   "execution_count": 2,
   "metadata": {},
   "outputs": [],
   "source": [
    "def VLSR(solar_radius, mu=6.379, v_sun=12.24*u.km/u.s):\n",
    "    \"\"\"\n",
    "    This function will compute the velocity at the local standard of rest\n",
    "        VLSR = 4.74*mu*Ro - vsun\n",
    "    Inputs: Ro (astropy units kpc) Distance from the sun to the galactic center,\n",
    "            mu is the proper motion of Sag A* (mas/yr)\n",
    "                Default is from Reid & Brunthaler 2004\n",
    "            vsun (astropy units km/s) the peculiar motion of the sun\n",
    "                in the v direction (Schonrich+2010)\n",
    "\n",
    "    Outputs: VLSR (astropy units km/s) the local standard of rest\n",
    "    \"\"\"\n",
    "    VLSR = 4.74*mu*(solar_radius/u.kpc)*u.km/u.s - v_sun\n",
    "    return VLSR"
   ]
  },
  {
   "cell_type": "code",
   "execution_count": 3,
   "metadata": {},
   "outputs": [],
   "source": [
    "# Different values of the distance to the Galactic Center\n",
    "RoReid = 8.34*u.kpc # Reid + 2014\n",
    "RoAbuter = 8.178*u.kpc # GRAVITY Abuter + 2019\n",
    "RoSparke = 7.9*u.kpc # Sparke & Gallagher Text"
   ]
  },
  {
   "cell_type": "code",
   "execution_count": 10,
   "metadata": {},
   "outputs": [
    {
     "data": {
      "text/latex": [
       "$239.93208 \\; \\mathrm{\\frac{km}{s}}$"
      ],
      "text/plain": [
       "<Quantity 239.9320764 km / s>"
      ]
     },
     "execution_count": 10,
     "metadata": {},
     "output_type": "execute_result"
    }
   ],
   "source": [
    "# Computer VLSR using Reid 2014\n",
    "VLSR_Reid = VLSR(RoReid)\n",
    "VLSR_Reid"
   ]
  },
  {
   "cell_type": "code",
   "execution_count": 11,
   "metadata": {},
   "outputs": [
    {
     "data": {
      "text/latex": [
       "$235.03377 \\; \\mathrm{\\frac{km}{s}}$"
      ],
      "text/plain": [
       "<Quantity 235.03376988 km / s>"
      ]
     },
     "execution_count": 11,
     "metadata": {},
     "output_type": "execute_result"
    }
   ],
   "source": [
    "# Compute VLSR using GRAVITY Collab\n",
    "VLSR_Abuter = VLSR(RoAbuter)\n",
    "VLSR_Abuter"
   ]
  },
  {
   "cell_type": "code",
   "execution_count": 13,
   "metadata": {},
   "outputs": [
    {
     "data": {
      "text/latex": [
       "$226.62803 \\; \\mathrm{\\frac{km}{s}}$"
      ],
      "text/plain": [
       "<Quantity 226.628034 km / s>"
      ]
     },
     "execution_count": 13,
     "metadata": {},
     "output_type": "execute_result"
    }
   ],
   "source": [
    "# Copmute VLSR using Sparke & Gallagher\n",
    "VLSR_Sparke = VLSR(RoSparke)\n",
    "VLSR_Sparke"
   ]
  },
  {
   "cell_type": "markdown",
   "metadata": {},
   "source": [
    "### b)\n",
    "\n",
    "compute the orbital period of the sun in Gyr using R$_o$ from the GRAVITY Collaboration (assume circular orbit)\n",
    "\n",
    "Note that 1 km/s $\\sim$ 1kpc/Gyr"
   ]
  },
  {
   "cell_type": "code",
   "execution_count": 14,
   "metadata": {},
   "outputs": [],
   "source": [
    "# Orbital Period = 2piR/Vel\n",
    "\n",
    "def TorbSun(Ro, Vc):\n",
    "    \"\"\"\n",
    "    This function calculates the orbital period of the sun.\n",
    "        T = 2 pi R / V\n",
    "\n",
    "    Inputs: R_sun (astropy quantity) distance to galactic center from the sun (kpc)\n",
    "            Vc (astropy quantity) velocity of the sun in the \"v\" direction (km/s)\n",
    "\n",
    "    Outputs: T (astropy quanity) Orbital period (Gyr)\n",
    "    \"\"\"\n",
    "    \n",
    "    VkpcGyr = Vc.to(u.kpc/u.Gyr) # Converting V to kpc/Gyr\n",
    "    T = 2 * np.pi * Ro/VkpcGyr   # Orbital period\n",
    "    \n",
    "    return T"
   ]
  },
  {
   "cell_type": "code",
   "execution_count": 18,
   "metadata": {},
   "outputs": [],
   "source": [
    "VsunPec = 12.24*u.km/u.s # Peculiar Motion"
   ]
  },
  {
   "cell_type": "code",
   "execution_count": 19,
   "metadata": {},
   "outputs": [],
   "source": [
    "Vsun = VLSR_Abuter + VsunPec # Total motion of the sun in the \"v\" direction"
   ]
  },
  {
   "cell_type": "code",
   "execution_count": 21,
   "metadata": {},
   "outputs": [
    {
     "data": {
      "text/latex": [
       "$0.203 \\; \\mathrm{Gyr}$"
      ],
      "text/plain": [
       "<Quantity 0.203 Gyr>"
      ]
     },
     "execution_count": 21,
     "metadata": {},
     "output_type": "execute_result"
    }
   ],
   "source": [
    "# Orbital Period of the Sun\n",
    "T_Abuter = TorbSun(RoAbuter, Vsun)\n",
    "np.around(T_Abuter, 3)"
   ]
  },
  {
   "cell_type": "markdown",
   "metadata": {},
   "source": [
    "### c)\n",
    "\n",
    "Compute the number of rotations about the GC over the age of the universe (13.8 Gyr)"
   ]
  },
  {
   "cell_type": "code",
   "execution_count": 24,
   "metadata": {},
   "outputs": [
    {
     "data": {
      "text/latex": [
       "$67.917796 \\; \\mathrm{}$"
      ],
      "text/plain": [
       "<Quantity 67.91779593>"
      ]
     },
     "execution_count": 24,
     "metadata": {},
     "output_type": "execute_result"
    }
   ],
   "source": [
    "AgeUniverse = 13.8 * u.Gyr\n",
    "AgeUniverse/T_Abuter"
   ]
  },
  {
   "cell_type": "markdown",
   "metadata": {},
   "source": [
    "## Part B  Dark Matter Density Profiles\n",
    "\n",
    "### a)\n",
    "Try out Fitting Rotation Curves \n",
    "[here](http://wittman.physics.ucdavis.edu/Animations/RotationCurve/GalacticRotation.html)\n",
    "\n",
    "\n",
    "### b)\n",
    "\n",
    "\n",
    "In the Isothermal Sphere model, what is the mass enclosed within the solar radius (R$_o$) in units of M$_\\odot$? \n",
    "\n",
    "Recall that for the Isothermal sphere :\n",
    "$\\rho(r) = \\frac{V_{LSR}^2}{4\\pi G r^2}$\n",
    "\n",
    "Where $G$ = 4.4985e-6 kpc$^3$/Gyr$^2$/M$_\\odot$, r is in kpc and $V_{LSR}$ is in km/s\n",
    "\n",
    "What about at 260 kpc (in units of  M$_\\odot$) ? "
   ]
  },
  {
   "cell_type": "code",
   "execution_count": 29,
   "metadata": {},
   "outputs": [
    {
     "name": "stdout",
     "output_type": "stream",
     "text": [
      "  Name   = Gravitational constant\n",
      "  Value  = 6.6743e-11\n",
      "  Uncertainty  = 1.5e-15\n",
      "  Unit  = m3 / (kg s2)\n",
      "  Reference = CODATA 2018\n"
     ]
    }
   ],
   "source": [
    "print(const.G)"
   ]
  },
  {
   "cell_type": "code",
   "execution_count": 31,
   "metadata": {},
   "outputs": [
    {
     "data": {
      "text/latex": [
       "$4.4985022 \\times 10^{-6} \\; \\mathrm{\\frac{kpc^{3}}{M_{\\odot}\\,Gyr^{2}}}$"
      ],
      "text/plain": [
       "<Quantity 4.49850215e-06 kpc3 / (solMass Gyr2)>"
      ]
     },
     "execution_count": 31,
     "metadata": {},
     "output_type": "execute_result"
    }
   ],
   "source": [
    "Grav = const.G.to(u.kpc**3/u.Gyr**2/u.Msun)\n",
    "Grav"
   ]
  },
  {
   "cell_type": "code",
   "execution_count": 32,
   "metadata": {},
   "outputs": [],
   "source": [
    "# Denisty profile rho = VLSR^2 / (4 * pi * G * r^2)\n",
    "# Mass (r) = Integrate rho dV\n",
    "#            Integrate rho 4*pi*r^2*dr\n",
    "#            Integrate VLSR^2 / (4*pi*G*r^2) * 4 * pi * r^2 dr\n",
    "#            VLSR^2/G * r\n",
    "\n",
    "def massIso(r, VLSR):\n",
    "    \"\"\"\n",
    "    This function will compute the dark matter mass enclosed in a sphere of radius r.\n",
    "    Assuming an Isothermal Sphere Model.\n",
    "        M(r) = VLSR^2/G * r\n",
    "\n",
    "    Inputs: r (astropy quantity), distance from the Galactic Center (kpc)\n",
    "            VLSR (astropy quantity), velocity at local standard of rest (km/s)\n",
    "\n",
    "    Outputs: M (astropy quantity), mass enclosed withinn r (Msun)\n",
    "    \"\"\"\n",
    "    \n",
    "    VLSRkpcGyr = VLSR.to(u.kpc/u.Gyr) # Converting to kpc/Gyr\n",
    "\n",
    "    M = (VLSRkpcGyr**2 / Grav) * r   # Isothermal Mass Profile\n",
    "    \n",
    "    return M"
   ]
  },
  {
   "cell_type": "code",
   "execution_count": 36,
   "metadata": {},
   "outputs": [
    {
     "data": {
      "text/latex": [
       "$1.0503803 \\times 10^{11} \\; \\mathrm{M_{\\odot}}$"
      ],
      "text/plain": [
       "<Quantity 1.05038026e+11 solMass>"
      ]
     },
     "execution_count": 36,
     "metadata": {},
     "output_type": "execute_result"
    }
   ],
   "source": [
    "# Compute the mass enclosed within Ro (GRAVITY Collab)\n",
    "mIsoSolar = massIso(RoAbuter, VLSR_Abuter) # Mass of sphere of radius solar distance using Isothermal Mass Profile\n",
    "mIsoSolar"
   ]
  },
  {
   "cell_type": "code",
   "execution_count": 37,
   "metadata": {},
   "outputs": [
    {
     "data": {
      "text/latex": [
       "$3.3394334 \\times 10^{12} \\; \\mathrm{M_{\\odot}}$"
      ],
      "text/plain": [
       "<Quantity 3.33943345e+12 solMass>"
      ]
     },
     "execution_count": 37,
     "metadata": {},
     "output_type": "execute_result"
    }
   ],
   "source": [
    "# Compute the mass enclosed within 260 kpc\n",
    "mIso260 = massIso(260*u.kpc, VLSR_Abuter)\n",
    "mIso260"
   ]
  },
  {
   "cell_type": "markdown",
   "metadata": {},
   "source": [
    "## c) \n",
    "\n",
    "The Leo I satellite is one of the fastest moving satellite galaxies we know. \n",
    "\n",
    "\n",
    "It is moving with 3D velocity of magnitude: Vtot = 196 km/s at a distance of 260 kpc (Sohn 2013 ApJ 768)\n",
    "\n",
    "If we assume that Leo I is moving at the escape speed:\n",
    "\n",
    "$v_{esc}^2 = 2|\\Phi| = 2 \\int G \\frac{\\rho(r)}{r}dV $ \n",
    "\n",
    "and assuming the Milky Way is well modeled by a Hernquist Sphere with a scale radius of $a$= 30 kpc, what is the minimum mass of the Milky Way (in units of M$_\\odot$) ?  \n",
    "\n",
    "How does this compare to estimates of the mass assuming the Isothermal Sphere model at 260 kpc (from your answer above)"
   ]
  },
  {
   "cell_type": "code",
   "execution_count": 42,
   "metadata": {},
   "outputs": [],
   "source": [
    "# Potential for a Hernquist Sphere\n",
    "# Phi = -G*m/(r+a)\n",
    "\n",
    "# Escape Speed becomes:\n",
    "# vesc^2 = 2*G*M/(r+a)\n",
    "\n",
    "# Rearrange for M\n",
    "# M = vesc^2/2/G*(r+a)\n",
    "\n",
    "def massHernVesc(vesc, r, a=30*u.kpc):\n",
    "    \"\"\"\n",
    "    This function computes the total mass needed given an escape speed, assuming a Hernquist profile\n",
    "        M = vesc^2/2/G*(r+a)\n",
    "\n",
    "    Inputs: vesc (astropy quantity), escape speed (or speed of satellite) (km/s)\n",
    "            r (astropy quantity), distance from the Galactic Center (kpc)\n",
    "            a (astropy quantity), the Hernquist Scale length (kpc)\n",
    "                                  default value of 30kpc\n",
    "\n",
    "    Outpus: M (astropy quantity), mass within r (Msun)\n",
    "    \"\"\"\n",
    "\n",
    "    vescKpcGyr = vesc.to(u.kpc/u.Gyr) # Convert to kpc/Gyr\n",
    "\n",
    "    M = vescKpcGyr**2 / 2 / Grav * (r + a)\n",
    "\n",
    "    return M"
   ]
  },
  {
   "cell_type": "code",
   "execution_count": 43,
   "metadata": {},
   "outputs": [],
   "source": [
    "Vleo = 196*u.km/u.s # Speed of Leo I Sohn et al.\n",
    "r = 260*u.kpc"
   ]
  },
  {
   "cell_type": "code",
   "execution_count": 44,
   "metadata": {},
   "outputs": [
    {
     "data": {
      "text/latex": [
       "$1.295147 \\times 10^{12} \\; \\mathrm{M_{\\odot}}$"
      ],
      "text/plain": [
       "<Quantity 1.29514698e+12 solMass>"
      ]
     },
     "execution_count": 44,
     "metadata": {},
     "output_type": "execute_result"
    }
   ],
   "source": [
    "MLeoI = massHernVesc(Vleo, r)\n",
    "MLeoI"
   ]
  },
  {
   "cell_type": "code",
   "execution_count": 46,
   "metadata": {},
   "outputs": [
    {
     "data": {
      "text/latex": [
       "$2.5784204 \\; \\mathrm{}$"
      ],
      "text/plain": [
       "<Quantity 2.57842045>"
      ]
     },
     "execution_count": 46,
     "metadata": {},
     "output_type": "execute_result"
    }
   ],
   "source": [
    "mIso260/MLeoI"
   ]
  }
 ],
 "metadata": {
  "kernelspec": {
   "display_name": "Python 3 (ipykernel)",
   "language": "python",
   "name": "python3"
  },
  "language_info": {
   "codemirror_mode": {
    "name": "ipython",
    "version": 3
   },
   "file_extension": ".py",
   "mimetype": "text/x-python",
   "name": "python",
   "nbconvert_exporter": "python",
   "pygments_lexer": "ipython3",
   "version": "3.13.1"
  }
 },
 "nbformat": 4,
 "nbformat_minor": 4
}
